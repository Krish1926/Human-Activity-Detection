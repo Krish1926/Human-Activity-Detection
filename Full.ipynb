{
  "nbformat": 4,
  "nbformat_minor": 0,
  "metadata": {
    "colab": {
      "provenance": [],
      "authorship_tag": "ABX9TyPYheEqMub30VCViqh1YdMk",
      "include_colab_link": true
    },
    "kernelspec": {
      "name": "python3",
      "display_name": "Python 3"
    },
    "language_info": {
      "name": "python"
    }
  },
  "cells": [
    {
      "cell_type": "markdown",
      "metadata": {
        "id": "view-in-github",
        "colab_type": "text"
      },
      "source": [
        "<a href=\"https://colab.research.google.com/github/Krish1926/Human-Activity-Detection/blob/main/Full.ipynb\" target=\"_parent\"><img src=\"https://colab.research.google.com/assets/colab-badge.svg\" alt=\"Open In Colab\"/></a>"
      ]
    },
    {
      "cell_type": "code",
      "source": [
        "!git clone https://github.com/Krish1926/Human-Activity-Detection.git"
      ],
      "metadata": {
        "colab": {
          "base_uri": "https://localhost:8080/"
        },
        "id": "Usgojo9iBsWr",
        "outputId": "f55f95a2-dff0-42b2-b30d-5e7d075f140d"
      },
      "execution_count": 27,
      "outputs": [
        {
          "output_type": "stream",
          "name": "stdout",
          "text": [
            "Cloning into 'Human-Activity-Detection'...\n",
            "remote: Enumerating objects: 28, done.\u001b[K\n",
            "remote: Counting objects: 100% (28/28), done.\u001b[K\n",
            "remote: Compressing objects: 100% (25/25), done.\u001b[K\n",
            "remote: Total 28 (delta 10), reused 0 (delta 0), pack-reused 0 (from 0)\u001b[K\n",
            "Receiving objects: 100% (28/28), 4.48 MiB | 3.30 MiB/s, done.\n",
            "Resolving deltas: 100% (10/10), done.\n"
          ]
        }
      ]
    },
    {
      "cell_type": "code",
      "source": [
        "print(human_fall.info())\n",
        "print(\"\\n\",human_fall['activity'].value_counts())"
      ],
      "metadata": {
        "colab": {
          "base_uri": "https://localhost:8080/"
        },
        "id": "HvYtzoCY0_mK",
        "outputId": "71df8d82-2b57-4cef-8baf-23cc145cd98d"
      },
      "execution_count": 28,
      "outputs": [
        {
          "output_type": "stream",
          "name": "stdout",
          "text": [
            "<class 'pandas.core.frame.DataFrame'>\n",
            "Index: 49574 entries, 0 to 93819\n",
            "Data columns (total 17 columns):\n",
            " #   Column     Non-Null Count  Dtype  \n",
            "---  ------     --------------  -----  \n",
            " 0   AG-X       49574 non-null  float64\n",
            " 1   AG-Y       49574 non-null  float64\n",
            " 2   AG-Z       49574 non-null  float64\n",
            " 3   Acc-X      49574 non-null  float64\n",
            " 4   Acc-Y      49574 non-null  float64\n",
            " 5   Acc-Z      49574 non-null  float64\n",
            " 6   Gravity-X  49574 non-null  float64\n",
            " 7   Gravity-Y  49574 non-null  float64\n",
            " 8   Gravity-Z  49574 non-null  float64\n",
            " 9   RR-X       49574 non-null  float64\n",
            " 10  RR-Y       49574 non-null  float64\n",
            " 11  RR-Z       49574 non-null  float64\n",
            " 12  RV-X       49574 non-null  float64\n",
            " 13  RV-Y       49574 non-null  float64\n",
            " 14  RV-Z       49574 non-null  float64\n",
            " 15  cos        49574 non-null  float64\n",
            " 16  activity   49574 non-null  object \n",
            "dtypes: float64(16), object(1)\n",
            "memory usage: 6.8+ MB\n",
            "None\n",
            "\n",
            " activity\n",
            "Sitting        12766\n",
            "Walking        10052\n",
            "Running         9620\n",
            "upstaires       8236\n",
            "Standing        4513\n",
            "downstaires     4387\n",
            "Name: count, dtype: int64\n"
          ]
        }
      ]
    },
    {
      "cell_type": "markdown",
      "source": [
        "### Data Cleaning"
      ],
      "metadata": {
        "id": "mTD6D9DR1ndc"
      }
    },
    {
      "cell_type": "code",
      "source": [
        "print(\"Missing Values in the Human Fall data:\\n\")\n",
        "human_fall.isnull().sum()"
      ],
      "metadata": {
        "colab": {
          "base_uri": "https://localhost:8080/",
          "height": 652
        },
        "id": "f8cKeaAw1o_3",
        "outputId": "2d211a5f-183d-46f4-bf64-951e9fc17e42"
      },
      "execution_count": 29,
      "outputs": [
        {
          "output_type": "stream",
          "name": "stdout",
          "text": [
            "Missing Values in the Human Fall data:\n",
            "\n"
          ]
        },
        {
          "output_type": "execute_result",
          "data": {
            "text/plain": [
              "AG-X         0\n",
              "AG-Y         0\n",
              "AG-Z         0\n",
              "Acc-X        0\n",
              "Acc-Y        0\n",
              "Acc-Z        0\n",
              "Gravity-X    0\n",
              "Gravity-Y    0\n",
              "Gravity-Z    0\n",
              "RR-X         0\n",
              "RR-Y         0\n",
              "RR-Z         0\n",
              "RV-X         0\n",
              "RV-Y         0\n",
              "RV-Z         0\n",
              "cos          0\n",
              "activity     0\n",
              "dtype: int64"
            ],
            "text/html": [
              "<div>\n",
              "<style scoped>\n",
              "    .dataframe tbody tr th:only-of-type {\n",
              "        vertical-align: middle;\n",
              "    }\n",
              "\n",
              "    .dataframe tbody tr th {\n",
              "        vertical-align: top;\n",
              "    }\n",
              "\n",
              "    .dataframe thead th {\n",
              "        text-align: right;\n",
              "    }\n",
              "</style>\n",
              "<table border=\"1\" class=\"dataframe\">\n",
              "  <thead>\n",
              "    <tr style=\"text-align: right;\">\n",
              "      <th></th>\n",
              "      <th>0</th>\n",
              "    </tr>\n",
              "  </thead>\n",
              "  <tbody>\n",
              "    <tr>\n",
              "      <th>AG-X</th>\n",
              "      <td>0</td>\n",
              "    </tr>\n",
              "    <tr>\n",
              "      <th>AG-Y</th>\n",
              "      <td>0</td>\n",
              "    </tr>\n",
              "    <tr>\n",
              "      <th>AG-Z</th>\n",
              "      <td>0</td>\n",
              "    </tr>\n",
              "    <tr>\n",
              "      <th>Acc-X</th>\n",
              "      <td>0</td>\n",
              "    </tr>\n",
              "    <tr>\n",
              "      <th>Acc-Y</th>\n",
              "      <td>0</td>\n",
              "    </tr>\n",
              "    <tr>\n",
              "      <th>Acc-Z</th>\n",
              "      <td>0</td>\n",
              "    </tr>\n",
              "    <tr>\n",
              "      <th>Gravity-X</th>\n",
              "      <td>0</td>\n",
              "    </tr>\n",
              "    <tr>\n",
              "      <th>Gravity-Y</th>\n",
              "      <td>0</td>\n",
              "    </tr>\n",
              "    <tr>\n",
              "      <th>Gravity-Z</th>\n",
              "      <td>0</td>\n",
              "    </tr>\n",
              "    <tr>\n",
              "      <th>RR-X</th>\n",
              "      <td>0</td>\n",
              "    </tr>\n",
              "    <tr>\n",
              "      <th>RR-Y</th>\n",
              "      <td>0</td>\n",
              "    </tr>\n",
              "    <tr>\n",
              "      <th>RR-Z</th>\n",
              "      <td>0</td>\n",
              "    </tr>\n",
              "    <tr>\n",
              "      <th>RV-X</th>\n",
              "      <td>0</td>\n",
              "    </tr>\n",
              "    <tr>\n",
              "      <th>RV-Y</th>\n",
              "      <td>0</td>\n",
              "    </tr>\n",
              "    <tr>\n",
              "      <th>RV-Z</th>\n",
              "      <td>0</td>\n",
              "    </tr>\n",
              "    <tr>\n",
              "      <th>cos</th>\n",
              "      <td>0</td>\n",
              "    </tr>\n",
              "    <tr>\n",
              "      <th>activity</th>\n",
              "      <td>0</td>\n",
              "    </tr>\n",
              "  </tbody>\n",
              "</table>\n",
              "</div><br><label><b>dtype:</b> int64</label>"
            ]
          },
          "metadata": {},
          "execution_count": 29
        }
      ]
    },
    {
      "cell_type": "code",
      "source": [
        "# Checking duplicates count per column\n",
        "duplicates_per_column = human_fall.apply(lambda col: col.duplicated().sum())\n",
        "\n",
        "print(\"Number of duplicate values in each column:\")\n",
        "print(duplicates_per_column)"
      ],
      "metadata": {
        "colab": {
          "base_uri": "https://localhost:8080/"
        },
        "id": "zA07J6LkrIR1",
        "outputId": "101cbc86-e348-426e-8256-c89ab2d63023"
      },
      "execution_count": 30,
      "outputs": [
        {
          "output_type": "stream",
          "name": "stdout",
          "text": [
            "Number of duplicate values in each column:\n",
            "AG-X         33540\n",
            "AG-Y         28662\n",
            "AG-Z         31807\n",
            "Acc-X          980\n",
            "Acc-Y         1097\n",
            "Acc-Z         1362\n",
            "Gravity-X      950\n",
            "Gravity-Y     1396\n",
            "Gravity-Z     1767\n",
            "RR-X         25783\n",
            "RR-Y         25819\n",
            "RR-Z         29445\n",
            "RV-X           939\n",
            "RV-Y           925\n",
            "RV-Z          1052\n",
            "cos           1304\n",
            "activity     49568\n",
            "dtype: int64\n"
          ]
        }
      ]
    },
    {
      "cell_type": "code",
      "source": [
        "# Checking duplicate rows\n",
        "print(\"Number of Duplicate Rows in the Human Fall data: \",human_fall.duplicated().sum())\n",
        "print(human_fall.duplicated())\n",
        "human_fall = human_fall.drop_duplicates()\n",
        "print(\"\\nNumber of Duplicates after dropping from the data:\\n\",human_fall.duplicated())"
      ],
      "metadata": {
        "colab": {
          "base_uri": "https://localhost:8080/"
        },
        "id": "RZhcX5arrTpE",
        "outputId": "065818a5-8707-48a9-cc7c-dbebb169ab1f"
      },
      "execution_count": 31,
      "outputs": [
        {
          "output_type": "stream",
          "name": "stdout",
          "text": [
            "Number of Duplicate Rows in the Human Fall data:  0\n",
            "0        False\n",
            "1        False\n",
            "2        False\n",
            "3        False\n",
            "4        False\n",
            "         ...  \n",
            "93753    False\n",
            "93816    False\n",
            "93817    False\n",
            "93818    False\n",
            "93819    False\n",
            "Length: 49574, dtype: bool\n",
            "\n",
            "Number of Duplicates after dropping from the data:\n",
            " 0        False\n",
            "1        False\n",
            "2        False\n",
            "3        False\n",
            "4        False\n",
            "         ...  \n",
            "93753    False\n",
            "93816    False\n",
            "93817    False\n",
            "93818    False\n",
            "93819    False\n",
            "Length: 49574, dtype: bool\n"
          ]
        }
      ]
    },
    {
      "cell_type": "code",
      "source": [
        "cd /content/Human-Activity-Detection"
      ],
      "metadata": {
        "colab": {
          "base_uri": "https://localhost:8080/"
        },
        "id": "Pob0OV-4r03I",
        "outputId": "80c29c89-fee0-450f-f7e8-511ec15668ae"
      },
      "execution_count": null,
      "outputs": [
        {
          "output_type": "stream",
          "name": "stdout",
          "text": [
            "/content/Human-Activity-Detection\n"
          ]
        }
      ]
    },
    {
      "cell_type": "code",
      "source": [
        "! git status"
      ],
      "metadata": {
        "colab": {
          "base_uri": "https://localhost:8080/"
        },
        "id": "DosrXUEzr2xy",
        "outputId": "62f15b3b-4f96-48ee-ea70-54d6e83951d1"
      },
      "execution_count": null,
      "outputs": [
        {
          "output_type": "stream",
          "name": "stdout",
          "text": [
            "On branch main\n",
            "Your branch is up to date with 'origin/main'.\n",
            "\n",
            "nothing to commit, working tree clean\n"
          ]
        }
      ]
    }
  ]
}